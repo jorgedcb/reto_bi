{
 "cells": [
  {
   "cell_type": "code",
   "execution_count": 15,
   "metadata": {},
   "outputs": [],
   "source": [
    "import requests\n",
    "import pandas as pd\n",
    "import numpy as np\n",
    "import json\n",
    "from os import path\n",
    "\n",
    "\n",
    "class Wordle:\n",
    "\n",
    "    default_user = (\"jorge.castilla\", \"5cbdaf7e3c844ec882f576ec2ec4c9a4\")\n",
    "    parameters_endpoint = \"https://7b8uflffq0.execute-api.us-east-1.amazonaws.com/game/get_params\"\n",
    "    results_endpoint = \"https://7b8uflffq0.execute-api.us-east-1.amazonaws.com/game/check_results\"\n",
    "    filename = \"/home/castilla/Desktop/sofka/reto_bi/OOP/responses.json\"\n",
    "\n",
    "    def __init__(\n",
    "        self,\n",
    "        words_list,\n",
    "        user=default_user,\n",
    "        parameters_endpoint=parameters_endpoint,\n",
    "        results_endpoint=results_endpoint,\n",
    "        filename=filename,\n",
    "    ):\n",
    "\n",
    "        # Assign to self object\n",
    "\n",
    "        self.parameters_endpoint = parameters_endpoint\n",
    "        self.results_endpoint = results_endpoint\n",
    "        self.filename = filename\n",
    "        self.__num_attempts = 0\n",
    "        self.__attempt_list = []\n",
    "        self.__last_attempt = \"\"\n",
    "        self.__list_results = []\n",
    "        self.__user = user\n",
    "        parameters = self._get_parameters()\n",
    "        self.__parameters = parameters.json()\n",
    "        self.__id = self.__parameters[\"id\"]\n",
    "        self.__length_word = self.__parameters[\"length_word\"]\n",
    "        self.__vowels = self.__parameters[\"vowels\"]\n",
    "        self.__consonants = self.__parameters[\"consonants\"]\n",
    "        self.__words_list = words_list\n",
    "        self.__df_game = self._get_df_game()\n",
    "        self.__wrong_letters = []\n",
    "        self.__must_letters = []\n",
    "        self.__list_letter_index_incorrect = []\n",
    "\n",
    "    @property\n",
    "    def num_attempts(self):\n",
    "        return self.__num_attempts\n",
    "\n",
    "    def _increase_num_attempts(self):\n",
    "        self.__num_attempts += 1\n",
    "\n",
    "    @property\n",
    "    def attempt_list(self):\n",
    "        return self.__attempt_list\n",
    "\n",
    "    def _append_attempt(self):\n",
    "        self.__attempt_list.append(self.last_attempt)\n",
    "        print(f\"{self.last_attempt} - attempt #{self.num_attempts}\")\n",
    "\n",
    "    @property\n",
    "    def last_attempt(self):\n",
    "        return self.__last_attempt\n",
    "\n",
    "    def _set_last_attempt(self, word):\n",
    "        self.__last_attempt = word\n",
    "\n",
    "    @property\n",
    "    def list_results(self):\n",
    "        return self.__list_results\n",
    "\n",
    "    @property\n",
    "    def user(self):\n",
    "        return self.__user\n",
    "\n",
    "    def _append_result(self, result):\n",
    "        self.__list_results.append(result)\n",
    "        print(result.json())\n",
    "\n",
    "    def print_results(self):\n",
    "        for response in self.list_results:\n",
    "            print(response.json())\n",
    "\n",
    "    def _get_parameters(self):\n",
    "        \"\"\"The format of the response is:\n",
    "        {\"id\": \"string\",\n",
    "        \"length_word\": int,\n",
    "        \"vowels\": int,\n",
    "        \"consonants\": int\n",
    "        }\n",
    "        \"\"\"\n",
    "        response = requests.get(self.parameters_endpoint, auth=self.user)\n",
    "        self._append_response(\"nuevo juego\")\n",
    "        self._append_response(response.json())\n",
    "        print(response.json())\n",
    "        return response\n",
    "\n",
    "    @property\n",
    "    def parameters(self):\n",
    "        return self.__parameters\n",
    "\n",
    "    @property\n",
    "    def id(self):\n",
    "        return self.__id\n",
    "\n",
    "    @property\n",
    "    def length_word(self):\n",
    "        return self.__length_word\n",
    "\n",
    "    @property\n",
    "    def vowels(self):\n",
    "        return self.__vowels\n",
    "\n",
    "    @property\n",
    "    def consonants(self):\n",
    "        return self.__consonants\n",
    "\n",
    "    @property\n",
    "    def words_list(self):\n",
    "        return self.__words_list\n",
    "\n",
    "    @property\n",
    "    def df_game(self):\n",
    "        return self.__df_game\n",
    "\n",
    "    @property\n",
    "    def must_letters(self):\n",
    "        return self.__must_letters\n",
    "\n",
    "    @property\n",
    "    def wrong_letters(self):\n",
    "        return self.__wrong_letters\n",
    "\n",
    "    def _create_df_from_list(self):\n",
    "        self.df_all_words = pd.DataFrame(self.words_list, columns=[\"Words\"])\n",
    "\n",
    "    def _add_number_letters_column(self):\n",
    "        self.df_all_words[\"Number of letters\"] = self.df_all_words[\n",
    "            \"Words\"\n",
    "        ].str.len()\n",
    "\n",
    "    def _add_vowels_column(self):\n",
    "        self.df_all_words[\"Number of vowels\"] = self.df_all_words[\n",
    "            \"Words\"\n",
    "        ].str.count(r\"[aeiou]\")\n",
    "\n",
    "    def _add_consonant_column(self):\n",
    "        self.df_all_words[\"Number of consonants\"] = (\n",
    "            self.df_all_words[\"Number of letters\"]\n",
    "            - self.df_all_words[\"Number of vowels\"]\n",
    "        )\n",
    "\n",
    "    def _restrict_df_by_parameter(self):\n",
    "        conditions = (\n",
    "            (self.df_all_words[\"Number of letters\"] == self.__length_word)\n",
    "            & (self.df_all_words[\"Number of vowels\"] == self.__vowels)\n",
    "            & (self.df_all_words[\"Number of consonants\"] == self.consonants)\n",
    "        )\n",
    "        return self.df_all_words.loc[conditions]\n",
    "\n",
    "    def _get_df_game(self):\n",
    "        \"\"\"Return a Pandas Dataframe created from the list of possible words.\"\"\"\n",
    "        self._create_df_from_list()\n",
    "        self._add_number_letters_column()\n",
    "        self._add_vowels_column()\n",
    "        self._add_consonant_column()\n",
    "        return self._restrict_df_by_parameter()\n",
    "\n",
    "    def _valid_words_list(self):\n",
    "        return list(self.df_game[\"Words\"].values)\n",
    "\n",
    "    def _word_from_list(self, list_words):\n",
    "        print(f\"There are {len(list_words)} words left\")\n",
    "        new_attempt = max(list_words, key=lambda word: len(set(word)))\n",
    "        return new_attempt\n",
    "\n",
    "    def _valid_words(self, index_correct_letters):\n",
    "        \"\"\"Get words that match the letter and position which the api return True.\n",
    "        I.e: If i send jorge and the api return [False, True, False, False, False]\n",
    "        get the words with an 'o' in second position.\"\"\"\n",
    "        list_letter_index_correct = [\n",
    "            (index, letter)\n",
    "            for index, letter in enumerate(self.last_attempt)\n",
    "            if index in index_correct_letters\n",
    "        ]\n",
    "        df = self.df_game\n",
    "        if list_letter_index_correct:\n",
    "            bool_words = [\n",
    "                df[\"Words\"].str[index].eq(letter)\n",
    "                for index, letter in list_letter_index_correct\n",
    "            ]\n",
    "            list_words = list(\n",
    "                df.loc[np.logical_and.reduce(bool_words), \"Words\"].values\n",
    "            )\n",
    "            return list_words\n",
    "        else:\n",
    "            return self._valid_words_list()\n",
    "\n",
    "    def _invalid_words(self, index_correct_letters):\n",
    "        incorrect_index_try = [\n",
    "            index\n",
    "            for index, letter in enumerate(self.last_attempt)\n",
    "            if (\n",
    "                letter in set(self.must_letters)\n",
    "                and index not in index_correct_letters\n",
    "            )\n",
    "        ]\n",
    "        self.__list_letter_index_incorrect.extend(\n",
    "            [\n",
    "                (index, letter)\n",
    "                for index, letter in enumerate(self.last_attempt)\n",
    "                if index in incorrect_index_try\n",
    "            ]\n",
    "        )\n",
    "        df = self.df_game\n",
    "        if self.__list_letter_index_incorrect:\n",
    "            bool_words = [\n",
    "                df[\"Words\"].str[index].eq(letter)\n",
    "                for index, letter in self.__list_letter_index_incorrect\n",
    "            ]\n",
    "            list_words = list(\n",
    "                df.loc[np.logical_or.reduce(bool_words), \"Words\"].values\n",
    "            )\n",
    "            return list_words\n",
    "        else:\n",
    "            return []\n",
    "\n",
    "    def _update_must_letters(self, index_correct_letters):\n",
    "        \"\"\"Letters that must be in the word.\"\"\"\n",
    "        letter_correct_position = [\n",
    "            self.last_attempt[j] for j in index_correct_letters\n",
    "        ]\n",
    "        right_letters = self.__last_result_json[\n",
    "            \"right_letters_in_wrong_positions\"\n",
    "        ]\n",
    "        right_letters.extend(letter_correct_position)\n",
    "        self.__must_letters = right_letters\n",
    "        return self.must_letters\n",
    "\n",
    "    def _update_wrongs_letters(self):\n",
    "        \"\"\"Letters that can't be in the word.\"\"\"\n",
    "        wrong_letters_last_try = list(\n",
    "            set(self.last_attempt) - set(self.must_letters)\n",
    "        )\n",
    "        self.__wrong_letters.extend(wrong_letters_last_try)\n",
    "\n",
    "    def _final_list(self, valid_words, invalid_words):\n",
    "        \"\"\"Return list of words that watch all the filters.\"\"\"\n",
    "        right_letters = self.must_letters\n",
    "        valid_list = [\n",
    "            word for word in valid_words if word not in invalid_words\n",
    "        ]\n",
    "        a_list = [\n",
    "            word\n",
    "            for word in valid_list\n",
    "            if all(\n",
    "                invalid_letter not in word\n",
    "                for invalid_letter in self.wrong_letters\n",
    "            )\n",
    "        ]\n",
    "        final_list = [\n",
    "            word\n",
    "            for word in a_list\n",
    "            if all(\n",
    "                right_letters.count(valid_letter) <= word.count(valid_letter)\n",
    "                for valid_letter in right_letters\n",
    "            )\n",
    "        ]\n",
    "        return final_list\n",
    "\n",
    "    def _first_attempt(self):\n",
    "        word = self._word_from_list(self._valid_words_list())\n",
    "        return word\n",
    "\n",
    "    def _new_attempt(self):\n",
    "        \"\"\"Thit method is used to get any attempt after the first one.\"\"\"\n",
    "        correct_index_letters_try = np.where(\n",
    "            self.__last_result_json[\"position_array\"]\n",
    "        )[0]\n",
    "        self._update_must_letters(correct_index_letters_try)\n",
    "        self._update_wrongs_letters()\n",
    "        valid_words = self._valid_words(correct_index_letters_try)\n",
    "        invalid_words = self._invalid_words(correct_index_letters_try)\n",
    "        final_list = self._final_list(valid_words, invalid_words)\n",
    "        new_try = self._word_from_list(final_list)\n",
    "        return new_try\n",
    "\n",
    "    def get_attempt(self):\n",
    "        \"\"\"Return a new attempt.\"\"\"\n",
    "        if self.num_attempts == 0:\n",
    "            return self._first_attempt()\n",
    "        else:\n",
    "            return self._new_attempt()\n",
    "\n",
    "    def _update_data(self, word):\n",
    "        self._increase_num_attempts()\n",
    "        self._set_last_attempt(word)\n",
    "        self._append_attempt()\n",
    "\n",
    "    def send_attemp(self, word):\n",
    "        self._update_data(word)\n",
    "        result = requests.post(\n",
    "            self.results_endpoint, json={\"result_word\": word}, auth=self.user\n",
    "        )\n",
    "        print(\"WTF\", result.json())\n",
    "        self._append_response(result.json())\n",
    "        self._append_result(result)\n",
    "        self.__last_result_json = result.json()\n",
    "        return result\n",
    "\n",
    "    def _security(self):\n",
    "        x = input(\"Write jorge for stop:\")\n",
    "        if x == \"jorge\":\n",
    "            return 1\n",
    "        else:\n",
    "            return self.__last_result_json[\"score\"]\n",
    "\n",
    "    def play(self):\n",
    "        score = 0\n",
    "        while score != 1:\n",
    "            self.send_attemp(self.get_attempt())\n",
    "            score = self._security()\n",
    "\n",
    "    def play_automatic(self):\n",
    "        score = 0\n",
    "        while score != 1:\n",
    "            self.send_attemp(self.get_attempt())\n",
    "            score = self.__last_result_json[\"score\"]\n",
    "\n",
    "    def _append_response(self, response):\n",
    "        \"\"\"Add the responses to the json file \"\"\"\n",
    "        listObj = []\n",
    "        if path.isfile(self.filename) is False:\n",
    "            raise Exception(\"File not found\")\n",
    "        with open(self.filename) as fp:\n",
    "            listObj = json.load(fp)\n",
    "        listObj.append(response)\n",
    "        with open(self.filename, \"w\") as json_file:\n",
    "            json.dump(listObj, json_file, indent=4, separators=(\",\", \": \"))\n",
    "\n",
    "    @classmethod\n",
    "    def responses_json(cls):\n",
    "        \"\"\"Return all responses stored in the json file\"\"\"\n",
    "        if path.isfile(cls.filename) is False:\n",
    "            raise Exception(\"File not found\")\n",
    "        with open(cls.filename) as fp:\n",
    "            list_responses = json.load(fp)\n",
    "        return list_responses\n",
    "\n",
    "    @classmethod\n",
    "    def send_try(cls, word):\n",
    "        result = requests.post(\n",
    "            cls.results_endpoint,\n",
    "            json={\"result_word\": word},\n",
    "            auth=cls.default_user,\n",
    "        )\n",
    "        return result\n",
    "\n",
    "    @classmethod\n",
    "    def append_response(cls, response):\n",
    "        \"\"\"Return all responses stored in the json file\"\"\"\n",
    "        listObj = []\n",
    "        if path.isfile(cls.filename) is False:\n",
    "            raise Exception(\"File not found\")\n",
    "        with open(cls.filename) as fp:\n",
    "            listObj = json.load(fp)\n",
    "        listObj.append(response)\n",
    "        with open(cls.filename, \"w\") as json_file:\n",
    "            json.dump(listObj, json_file, indent=4, separators=(\",\", \": \"))\n"
   ]
  },
  {
   "cell_type": "code",
   "execution_count": 19,
   "metadata": {},
   "outputs": [
    {
     "name": "stdout",
     "output_type": "stream",
     "text": [
      "{'id': '62bbd767393226b679fc4c13', 'length_word': 6, 'vowels': 2, 'consonants': 4}\n"
     ]
    }
   ],
   "source": [
    "import json\n",
    "\n",
    "with open('/home/castilla/Desktop/sofka/reto_bi/OOP/test.txt', 'r') as f:\n",
    "    list_words = json.loads(f.read())\n",
    "\n",
    "\n",
    "game = Wordle(list_words)\n"
   ]
  },
  {
   "cell_type": "code",
   "execution_count": 20,
   "metadata": {},
   "outputs": [
    {
     "name": "stdout",
     "output_type": "stream",
     "text": [
      "There are 1273 words left\n",
      "actriz - attempt #1\n",
      "{'word_sent': 'actriz', 'score': 0.3333333333333333, 'try_datetime': '2022-06-29T04:39:10.264572', 'position_array': [False, False, False, False, False, False], 'right_letters_in_wrong_positions': ['c', 'r'], 'current_attemps': 1}\n",
      "There are 29 words left\n",
      "broche - attempt #2\n",
      "{'word_sent': 'broche', 'score': 0.3333333333333333, 'try_datetime': '2022-06-29T04:45:01.582962', 'position_array': [False, False, False, False, False, False], 'right_letters_in_wrong_positions': ['r', 'o', 'c'], 'current_attemps': 2}\n",
      "There are 5 words left\n",
      "corpus - attempt #3\n",
      "{'word_sent': 'corpus', 'score': 0.5, 'try_datetime': '2022-06-29T04:47:04.457795', 'position_array': [True, True, False, True, False, False], 'right_letters_in_wrong_positions': ['r'], 'current_attemps': 3}\n",
      "There are 1 words left\n",
      "compro - attempt #4\n",
      "{'word_sent': 'corpus', 'score': 0.5, 'try_datetime': '2022-06-29T04:47:04.457795', 'position_array': [True, True, False, True, False, False], 'right_letters_in_wrong_positions': ['r'], 'current_attemps': 3}\n",
      "There are 0 words left\n"
     ]
    },
    {
     "ename": "ValueError",
     "evalue": "max() arg is an empty sequence",
     "output_type": "error",
     "traceback": [
      "\u001b[0;31m---------------------------------------------------------------------------\u001b[0m",
      "\u001b[0;31mValueError\u001b[0m                                Traceback (most recent call last)",
      "\u001b[1;32m/home/castilla/Desktop/sofka/reto_bi/OOP/juputer.ipynb Cell 3'\u001b[0m in \u001b[0;36m<cell line: 1>\u001b[0;34m()\u001b[0m\n\u001b[0;32m----> <a href='vscode-notebook-cell:/home/castilla/Desktop/sofka/reto_bi/OOP/juputer.ipynb#ch0000030?line=0'>1</a>\u001b[0m game\u001b[39m.\u001b[39;49mplay()\n",
      "\u001b[1;32m/home/castilla/Desktop/sofka/reto_bi/OOP/juputer.ipynb Cell 1'\u001b[0m in \u001b[0;36mWordle.play\u001b[0;34m(self)\u001b[0m\n\u001b[1;32m    <a href='vscode-notebook-cell:/home/castilla/Desktop/sofka/reto_bi/OOP/juputer.ipynb#ch0000000?line=343'>344</a>\u001b[0m score \u001b[39m=\u001b[39m \u001b[39m0\u001b[39m\n\u001b[1;32m    <a href='vscode-notebook-cell:/home/castilla/Desktop/sofka/reto_bi/OOP/juputer.ipynb#ch0000000?line=344'>345</a>\u001b[0m \u001b[39mwhile\u001b[39;00m score \u001b[39m!=\u001b[39m \u001b[39m1\u001b[39m:\n\u001b[0;32m--> <a href='vscode-notebook-cell:/home/castilla/Desktop/sofka/reto_bi/OOP/juputer.ipynb#ch0000000?line=345'>346</a>\u001b[0m     \u001b[39mself\u001b[39m\u001b[39m.\u001b[39msend_attemp(\u001b[39mself\u001b[39;49m\u001b[39m.\u001b[39;49mget_attempt())\n\u001b[1;32m    <a href='vscode-notebook-cell:/home/castilla/Desktop/sofka/reto_bi/OOP/juputer.ipynb#ch0000000?line=346'>347</a>\u001b[0m     score \u001b[39m=\u001b[39m \u001b[39mself\u001b[39m\u001b[39m.\u001b[39m_security()\n",
      "\u001b[1;32m/home/castilla/Desktop/sofka/reto_bi/OOP/juputer.ipynb Cell 1'\u001b[0m in \u001b[0;36mWordle.get_attempt\u001b[0;34m(self)\u001b[0m\n\u001b[1;32m    <a href='vscode-notebook-cell:/home/castilla/Desktop/sofka/reto_bi/OOP/juputer.ipynb#ch0000000?line=282'>283</a>\u001b[0m     \u001b[39mreturn\u001b[39;00m \u001b[39mself\u001b[39m\u001b[39m.\u001b[39m_first_attempt()\n\u001b[1;32m    <a href='vscode-notebook-cell:/home/castilla/Desktop/sofka/reto_bi/OOP/juputer.ipynb#ch0000000?line=283'>284</a>\u001b[0m \u001b[39melse\u001b[39;00m:\n\u001b[0;32m--> <a href='vscode-notebook-cell:/home/castilla/Desktop/sofka/reto_bi/OOP/juputer.ipynb#ch0000000?line=284'>285</a>\u001b[0m     \u001b[39mreturn\u001b[39;00m \u001b[39mself\u001b[39;49m\u001b[39m.\u001b[39;49m_new_attempt()\n",
      "\u001b[1;32m/home/castilla/Desktop/sofka/reto_bi/OOP/juputer.ipynb Cell 1'\u001b[0m in \u001b[0;36mWordle._new_attempt\u001b[0;34m(self)\u001b[0m\n\u001b[1;32m    <a href='vscode-notebook-cell:/home/castilla/Desktop/sofka/reto_bi/OOP/juputer.ipynb#ch0000000?line=274'>275</a>\u001b[0m invalid_words \u001b[39m=\u001b[39m \u001b[39mself\u001b[39m\u001b[39m.\u001b[39m_invalid_words(correct_index_letters_try)\n\u001b[1;32m    <a href='vscode-notebook-cell:/home/castilla/Desktop/sofka/reto_bi/OOP/juputer.ipynb#ch0000000?line=275'>276</a>\u001b[0m final_list \u001b[39m=\u001b[39m \u001b[39mself\u001b[39m\u001b[39m.\u001b[39m_final_list(valid_words, invalid_words)\n\u001b[0;32m--> <a href='vscode-notebook-cell:/home/castilla/Desktop/sofka/reto_bi/OOP/juputer.ipynb#ch0000000?line=276'>277</a>\u001b[0m new_try \u001b[39m=\u001b[39m \u001b[39mself\u001b[39;49m\u001b[39m.\u001b[39;49m_word_from_list(final_list)\n\u001b[1;32m    <a href='vscode-notebook-cell:/home/castilla/Desktop/sofka/reto_bi/OOP/juputer.ipynb#ch0000000?line=277'>278</a>\u001b[0m \u001b[39mreturn\u001b[39;00m new_try\n",
      "\u001b[1;32m/home/castilla/Desktop/sofka/reto_bi/OOP/juputer.ipynb Cell 1'\u001b[0m in \u001b[0;36mWordle._word_from_list\u001b[0;34m(self, list_words)\u001b[0m\n\u001b[1;32m    <a href='vscode-notebook-cell:/home/castilla/Desktop/sofka/reto_bi/OOP/juputer.ipynb#ch0000000?line=181'>182</a>\u001b[0m \u001b[39mdef\u001b[39;00m \u001b[39m_word_from_list\u001b[39m(\u001b[39mself\u001b[39m, list_words):\n\u001b[1;32m    <a href='vscode-notebook-cell:/home/castilla/Desktop/sofka/reto_bi/OOP/juputer.ipynb#ch0000000?line=182'>183</a>\u001b[0m     \u001b[39mprint\u001b[39m(\u001b[39mf\u001b[39m\u001b[39m\"\u001b[39m\u001b[39mThere are \u001b[39m\u001b[39m{\u001b[39;00m\u001b[39mlen\u001b[39m(list_words)\u001b[39m}\u001b[39;00m\u001b[39m words left\u001b[39m\u001b[39m\"\u001b[39m)\n\u001b[0;32m--> <a href='vscode-notebook-cell:/home/castilla/Desktop/sofka/reto_bi/OOP/juputer.ipynb#ch0000000?line=183'>184</a>\u001b[0m     new_attempt \u001b[39m=\u001b[39m \u001b[39mmax\u001b[39;49m(list_words, key\u001b[39m=\u001b[39;49m\u001b[39mlambda\u001b[39;49;00m word: \u001b[39mlen\u001b[39;49m(\u001b[39mset\u001b[39;49m(word)))\n\u001b[1;32m    <a href='vscode-notebook-cell:/home/castilla/Desktop/sofka/reto_bi/OOP/juputer.ipynb#ch0000000?line=184'>185</a>\u001b[0m     \u001b[39mreturn\u001b[39;00m new_attempt\n",
      "\u001b[0;31mValueError\u001b[0m: max() arg is an empty sequence"
     ]
    }
   ],
   "source": [
    "game.play()"
   ]
  },
  {
   "cell_type": "code",
   "execution_count": 12,
   "metadata": {},
   "outputs": [
    {
     "data": {
      "text/plain": [
       "{'word_sent': 'cadmo',\n",
       " 'score': 0.4,\n",
       " 'try_datetime': '2022-06-29T04:04:59.176965',\n",
       " 'position_array': [False, True, True, False, False],\n",
       " 'right_letters_in_wrong_positions': [],\n",
       " 'current_attemps': 3}"
      ]
     },
     "execution_count": 12,
     "metadata": {},
     "output_type": "execute_result"
    }
   ],
   "source": [
    "jorge = Wordle.send_try(\"cadmo\").json()\n",
    "jorge"
   ]
  },
  {
   "cell_type": "code",
   "execution_count": 8,
   "metadata": {},
   "outputs": [],
   "source": [
    "#from wordle import Wordle\n",
    "import json\n",
    "\n",
    "with open('/home/castilla/Desktop/sofka/reto_bi/OOP/test.txt', 'r') as f:\n",
    "    list_words = json.loads(f.read())\n",
    "\n",
    "user = ('jorge.castilla','5cbdaf7e3c844ec882f576ec2ec4c9a4')\n",
    "\n",
    "game = Wordle(list_words,user)"
   ]
  },
  {
   "cell_type": "code",
   "execution_count": 9,
   "metadata": {},
   "outputs": [
    {
     "data": {
      "text/plain": [
       "{'id': '62b4da73a7523ed860dfabce',\n",
       " 'length_word': 11,\n",
       " 'vowels': 5,\n",
       " 'consonants': 6}"
      ]
     },
     "execution_count": 9,
     "metadata": {},
     "output_type": "execute_result"
    }
   ],
   "source": [
    "game.parameters"
   ]
  },
  {
   "cell_type": "code",
   "execution_count": 10,
   "metadata": {},
   "outputs": [
    {
     "name": "stdout",
     "output_type": "stream",
     "text": [
      "bronquiales\n"
     ]
    }
   ],
   "source": [
    "first_attempt = game.get_attempt()\n",
    "print(first_attempt)"
   ]
  },
  {
   "cell_type": "code",
   "execution_count": 11,
   "metadata": {},
   "outputs": [
    {
     "name": "stdout",
     "output_type": "stream",
     "text": [
      "bronquiales - attempt #1\n",
      "{'word_sent': 'bronquiales', 'score': 0.2727272727272727, 'try_datetime': '2022-06-23T21:28:15.365512', 'position_array': [False, False, False, False, False, False, True, False, False, False, False], 'right_letters_in_wrong_positions': ['o', 'n', 'e'], 'current_attemps': 1}\n"
     ]
    },
    {
     "data": {
      "text/plain": [
       "<Response [200]>"
      ]
     },
     "execution_count": 11,
     "metadata": {},
     "output_type": "execute_result"
    }
   ],
   "source": [
    "game.send_attemp(first_attempt)\n"
   ]
  },
  {
   "cell_type": "code",
   "execution_count": 12,
   "metadata": {},
   "outputs": [
    {
     "name": "stdout",
     "output_type": "stream",
     "text": [
      "compitiendo\n"
     ]
    }
   ],
   "source": [
    "second_attemp = game.get_attempt()\n",
    "print(second_attemp)"
   ]
  },
  {
   "cell_type": "code",
   "execution_count": 13,
   "metadata": {},
   "outputs": [
    {
     "name": "stdout",
     "output_type": "stream",
     "text": [
      "compitiendo - attempt #2\n",
      "{'word_sent': 'compitiendo', 'score': 1.0, 'try_datetime': '2022-06-23T21:30:24.889229', 'position_array': [True, True, True, True, True, True, True, True, True, True, True], 'right_letters_in_wrong_positions': [], 'current_attemps': 2}\n"
     ]
    },
    {
     "data": {
      "text/plain": [
       "<Response [200]>"
      ]
     },
     "execution_count": 13,
     "metadata": {},
     "output_type": "execute_result"
    }
   ],
   "source": [
    "game.send_attemp(second_attemp)"
   ]
  },
  {
   "cell_type": "code",
   "execution_count": 14,
   "metadata": {},
   "outputs": [
    {
     "data": {
      "text/plain": [
       "{'id': '62b4da73a7523ed860dfabce',\n",
       " 'length_word': 11,\n",
       " 'vowels': 5,\n",
       " 'consonants': 6}"
      ]
     },
     "execution_count": 14,
     "metadata": {},
     "output_type": "execute_result"
    }
   ],
   "source": [
    "game2 = Wordle(list_words,user)\n",
    "game2.parameters"
   ]
  },
  {
   "cell_type": "code",
   "execution_count": 15,
   "metadata": {},
   "outputs": [
    {
     "data": {
      "text/plain": [
       "{'id': '62b4dceeaf391d7254b85ad3',\n",
       " 'length_word': 8,\n",
       " 'vowels': 4,\n",
       " 'consonants': 4}"
      ]
     },
     "execution_count": 15,
     "metadata": {},
     "output_type": "execute_result"
    }
   ],
   "source": [
    "game2.parameters"
   ]
  },
  {
   "cell_type": "code",
   "execution_count": 16,
   "metadata": {},
   "outputs": [
    {
     "name": "stdout",
     "output_type": "stream",
     "text": [
      "abiertos\n"
     ]
    }
   ],
   "source": [
    "first_attempt = game2.get_attempt()\n",
    "print(first_attempt)"
   ]
  },
  {
   "cell_type": "code",
   "execution_count": 17,
   "metadata": {},
   "outputs": [
    {
     "name": "stdout",
     "output_type": "stream",
     "text": [
      "abiertos - attempt #1\n",
      "{'word_sent': 'abiertos', 'score': 0.375, 'try_datetime': '2022-06-23T21:39:00.007408', 'position_array': [True, False, True, False, False, False, False, False], 'right_letters_in_wrong_positions': ['t'], 'current_attemps': 1}\n"
     ]
    },
    {
     "data": {
      "text/plain": [
       "<Response [200]>"
      ]
     },
     "execution_count": 17,
     "metadata": {},
     "output_type": "execute_result"
    }
   ],
   "source": [
    "game2.send_attemp(first_attempt)"
   ]
  },
  {
   "cell_type": "code",
   "execution_count": 18,
   "metadata": {},
   "outputs": [
    {
     "name": "stdout",
     "output_type": "stream",
     "text": [
      "adictiva\n"
     ]
    }
   ],
   "source": [
    "second_attemp = game2.get_attempt()\n",
    "print(second_attemp)"
   ]
  },
  {
   "cell_type": "code",
   "execution_count": 19,
   "metadata": {},
   "outputs": [
    {
     "name": "stdout",
     "output_type": "stream",
     "text": [
      "adictiva - attempt #2\n",
      "{'word_sent': 'adictiva', 'score': 1.0, 'try_datetime': '2022-06-23T21:40:19.866921', 'position_array': [True, True, True, True, True, True, True, True], 'right_letters_in_wrong_positions': [], 'current_attemps': 2}\n"
     ]
    },
    {
     "data": {
      "text/plain": [
       "<Response [200]>"
      ]
     },
     "execution_count": 19,
     "metadata": {},
     "output_type": "execute_result"
    }
   ],
   "source": [
    "game2.send_attemp(second_attemp)"
   ]
  },
  {
   "cell_type": "code",
   "execution_count": 20,
   "metadata": {},
   "outputs": [
    {
     "data": {
      "text/plain": [
       "{'id': '62b4de62af391d7254b85ad7',\n",
       " 'length_word': 10,\n",
       " 'vowels': 3,\n",
       " 'consonants': 7}"
      ]
     },
     "execution_count": 20,
     "metadata": {},
     "output_type": "execute_result"
    }
   ],
   "source": [
    "game3 = Wordle(list_words,user)\n",
    "game3.parameters"
   ]
  },
  {
   "cell_type": "code",
   "execution_count": 21,
   "metadata": {},
   "outputs": [
    {
     "name": "stdout",
     "output_type": "stream",
     "text": [
      "bialystock\n"
     ]
    }
   ],
   "source": [
    "first_attempt = game3.get_attempt()\n",
    "print(first_attempt)"
   ]
  },
  {
   "cell_type": "code",
   "execution_count": 24,
   "metadata": {},
   "outputs": [
    {
     "name": "stdout",
     "output_type": "stream",
     "text": [
      "bialystock - attempt #2\n",
      "{'word_sent': 'bialystock', 'score': 0.1, 'try_datetime': '2022-06-23T21:49:11.062416', 'position_array': [False, False, False, False, False, False, True, False, False, False], 'right_letters_in_wrong_positions': ['i', 'a', 's', 'o', 'c'], 'current_attemps': 3}\n",
      "chortatzis\n"
     ]
    }
   ],
   "source": [
    "game3.send_attemp(first_attempt)\n",
    "second_attemp = game3.get_attempt()\n",
    "print(second_attemp)"
   ]
  },
  {
   "cell_type": "code",
   "execution_count": 25,
   "metadata": {},
   "outputs": [
    {
     "name": "stdout",
     "output_type": "stream",
     "text": [
      "chortatzis - attempt #3\n",
      "{'word_sent': 'chortatzis', 'score': 1.0, 'try_datetime': '2022-06-23T21:49:30.583059', 'position_array': [True, True, True, True, True, True, True, True, True, True], 'right_letters_in_wrong_positions': [], 'current_attemps': 4}\n"
     ]
    },
    {
     "data": {
      "text/plain": [
       "<Response [200]>"
      ]
     },
     "execution_count": 25,
     "metadata": {},
     "output_type": "execute_result"
    }
   ],
   "source": [
    "game3.send_attemp(second_attemp)"
   ]
  },
  {
   "cell_type": "code",
   "execution_count": 41,
   "metadata": {},
   "outputs": [
    {
     "name": "stdout",
     "output_type": "stream",
     "text": [
      "{'id': '62b4e470a15bde70e02b0f6a', 'length_word': 11, 'vowels': 4, 'consonants': 7}\n",
      "centigrados\n"
     ]
    }
   ],
   "source": [
    "game4 = Wordle(list_words,user)\n",
    "print(game4.parameters)\n",
    "first_attempt = game4.get_attempt()\n",
    "print(first_attempt)"
   ]
  },
  {
   "cell_type": "code",
   "execution_count": 42,
   "metadata": {},
   "outputs": [
    {
     "name": "stdout",
     "output_type": "stream",
     "text": [
      "centigrados - attempt #1\n",
      "{'word_sent': 'centigrados', 'score': 0.45454545454545453, 'try_datetime': '2022-06-23T22:09:51.688127', 'position_array': [False, True, False, False, False, False, False, True, False, False, False], 'right_letters_in_wrong_positions': ['n', 't', 'g', 'd', 'o', 's'], 'current_attemps': 1}\n",
      "desgastando\n"
     ]
    }
   ],
   "source": [
    "game4.send_attemp(first_attempt)\n",
    "second_attemp = game4.get_attempt()\n",
    "print(second_attemp)"
   ]
  },
  {
   "cell_type": "code",
   "execution_count": 43,
   "metadata": {},
   "outputs": [
    {
     "name": "stdout",
     "output_type": "stream",
     "text": [
      "desgastando - attempt #2\n",
      "{'word_sent': 'desgastando', 'score': 1.0, 'try_datetime': '2022-06-23T22:10:26.086964', 'position_array': [True, True, True, True, True, True, True, True, True, True, True], 'right_letters_in_wrong_positions': [], 'current_attemps': 2}\n"
     ]
    },
    {
     "data": {
      "text/plain": [
       "<Response [200]>"
      ]
     },
     "execution_count": 43,
     "metadata": {},
     "output_type": "execute_result"
    }
   ],
   "source": [
    "game4.send_attemp(second_attemp)"
   ]
  },
  {
   "cell_type": "code",
   "execution_count": 44,
   "metadata": {},
   "outputs": [
    {
     "name": "stdout",
     "output_type": "stream",
     "text": [
      "{'id': '62b4e470a15bde70e02b0f6a', 'length_word': 11, 'vowels': 4, 'consonants': 7}\n",
      "abiertos\n"
     ]
    }
   ],
   "source": [
    "game5 = Wordle(list_words,user)\n",
    "print(game5.parameters)\n",
    "first_attempt = game5.get_attempt()\n",
    "print(first_attempt)"
   ]
  },
  {
   "cell_type": "code",
   "execution_count": 45,
   "metadata": {},
   "outputs": [
    {
     "name": "stdout",
     "output_type": "stream",
     "text": [
      "{'id': '62b4e50da15bde70e02b0f6e', 'length_word': 8, 'vowels': 4, 'consonants': 4}\n"
     ]
    }
   ],
   "source": [
    "print(game5.parameters)"
   ]
  },
  {
   "cell_type": "code",
   "execution_count": 46,
   "metadata": {},
   "outputs": [
    {
     "name": "stdout",
     "output_type": "stream",
     "text": [
      "abiertos - attempt #1\n",
      "{'word_sent': 'abiertos', 'score': 0.25, 'try_datetime': '2022-06-23T22:12:03.226984', 'position_array': [True, False, False, False, False, False, False, False], 'right_letters_in_wrong_positions': ['t', 'o'], 'current_attemps': 1}\n",
      "actuando\n"
     ]
    }
   ],
   "source": [
    "game5.send_attemp(first_attempt)\n",
    "second_attemp = game5.get_attempt()\n",
    "print(second_attemp)"
   ]
  },
  {
   "cell_type": "code",
   "execution_count": 47,
   "metadata": {},
   "outputs": [
    {
     "name": "stdout",
     "output_type": "stream",
     "text": [
      "actuando - attempt #2\n",
      "{'word_sent': 'actuando', 'score': 0.375, 'try_datetime': '2022-06-23T22:12:12.449979', 'position_array': [True, False, False, False, False, False, True, True], 'right_letters_in_wrong_positions': ['t', 'a'], 'current_attemps': 2}\n"
     ]
    },
    {
     "data": {
      "text/plain": [
       "<Response [200]>"
      ]
     },
     "execution_count": 47,
     "metadata": {},
     "output_type": "execute_result"
    }
   ],
   "source": [
    "game5.send_attemp(second_attemp)"
   ]
  },
  {
   "cell_type": "code",
   "execution_count": 48,
   "metadata": {},
   "outputs": [
    {
     "name": "stdout",
     "output_type": "stream",
     "text": [
      "adaptado\n"
     ]
    }
   ],
   "source": [
    "third_attemp = game5.get_attempt()\n",
    "print(third_attemp)\n"
   ]
  },
  {
   "cell_type": "code",
   "execution_count": 49,
   "metadata": {},
   "outputs": [
    {
     "name": "stdout",
     "output_type": "stream",
     "text": [
      "adaptado - attempt #3\n",
      "{'word_sent': 'adaptado', 'score': 0.875, 'try_datetime': '2022-06-23T22:15:02.986128', 'position_array': [True, True, False, True, True, True, True, True], 'right_letters_in_wrong_positions': [], 'current_attemps': 3}\n"
     ]
    },
    {
     "data": {
      "text/plain": [
       "<Response [200]>"
      ]
     },
     "execution_count": 49,
     "metadata": {},
     "output_type": "execute_result"
    }
   ],
   "source": [
    "game5.send_attemp(third_attemp)"
   ]
  },
  {
   "cell_type": "code",
   "execution_count": 51,
   "metadata": {},
   "outputs": [
    {
     "ename": "ValueError",
     "evalue": "max() arg is an empty sequence",
     "output_type": "error",
     "traceback": [
      "\u001b[0;31m---------------------------------------------------------------------------\u001b[0m",
      "\u001b[0;31mValueError\u001b[0m                                Traceback (most recent call last)",
      "\u001b[1;32m/home/castilla/Desktop/sofka/reto_bi/OOP/juputer.ipynb Cell 27'\u001b[0m in \u001b[0;36m<cell line: 1>\u001b[0;34m()\u001b[0m\n\u001b[0;32m----> <a href='vscode-notebook-cell:/home/castilla/Desktop/sofka/reto_bi/OOP/juputer.ipynb#ch0000034?line=0'>1</a>\u001b[0m four_attemp \u001b[39m=\u001b[39m game5\u001b[39m.\u001b[39;49mget_attempt()\n\u001b[1;32m      <a href='vscode-notebook-cell:/home/castilla/Desktop/sofka/reto_bi/OOP/juputer.ipynb#ch0000034?line=1'>2</a>\u001b[0m \u001b[39mprint\u001b[39m(four_attemp)\n",
      "\u001b[1;32m/home/castilla/Desktop/sofka/reto_bi/OOP/juputer.ipynb Cell 1'\u001b[0m in \u001b[0;36mWordle.get_attempt\u001b[0;34m(self)\u001b[0m\n\u001b[1;32m    <a href='vscode-notebook-cell:/home/castilla/Desktop/sofka/reto_bi/OOP/juputer.ipynb#ch0000000?line=186'>187</a>\u001b[0m     \u001b[39mreturn\u001b[39;00m \u001b[39mself\u001b[39m\u001b[39m.\u001b[39mfirst_attempt()\n\u001b[1;32m    <a href='vscode-notebook-cell:/home/castilla/Desktop/sofka/reto_bi/OOP/juputer.ipynb#ch0000000?line=187'>188</a>\u001b[0m \u001b[39melse\u001b[39;00m:\n\u001b[0;32m--> <a href='vscode-notebook-cell:/home/castilla/Desktop/sofka/reto_bi/OOP/juputer.ipynb#ch0000000?line=188'>189</a>\u001b[0m     \u001b[39mreturn\u001b[39;00m \u001b[39mself\u001b[39;49m\u001b[39m.\u001b[39;49mnew_attempt()\n",
      "\u001b[1;32m/home/castilla/Desktop/sofka/reto_bi/OOP/juputer.ipynb Cell 1'\u001b[0m in \u001b[0;36mWordle.new_attempt\u001b[0;34m(self)\u001b[0m\n\u001b[1;32m    <a href='vscode-notebook-cell:/home/castilla/Desktop/sofka/reto_bi/OOP/juputer.ipynb#ch0000000?line=177'>178</a>\u001b[0m \u001b[39m#valid letters mean must letters\u001b[39;00m\n\u001b[1;32m    <a href='vscode-notebook-cell:/home/castilla/Desktop/sofka/reto_bi/OOP/juputer.ipynb#ch0000000?line=178'>179</a>\u001b[0m \u001b[39m# final_list = [word for word in a_list if all(valid_letter in word for valid_letter in right_letters)]\u001b[39;00m\n\u001b[1;32m    <a href='vscode-notebook-cell:/home/castilla/Desktop/sofka/reto_bi/OOP/juputer.ipynb#ch0000000?line=179'>180</a>\u001b[0m final_list \u001b[39m=\u001b[39m [word \u001b[39mfor\u001b[39;00m word \u001b[39min\u001b[39;00m a_list \u001b[39mif\u001b[39;00m \u001b[39mall\u001b[39m(right_letters\u001b[39m.\u001b[39mcount(valid_letter) \u001b[39m<\u001b[39m\u001b[39m=\u001b[39m word\u001b[39m.\u001b[39mcount(valid_letter) \u001b[39mfor\u001b[39;00m valid_letter \u001b[39min\u001b[39;00m right_letters)]\n\u001b[0;32m--> <a href='vscode-notebook-cell:/home/castilla/Desktop/sofka/reto_bi/OOP/juputer.ipynb#ch0000000?line=181'>182</a>\u001b[0m new_try \u001b[39m=\u001b[39m \u001b[39mself\u001b[39;49m\u001b[39m.\u001b[39;49mword_from_list(final_list)\n\u001b[1;32m    <a href='vscode-notebook-cell:/home/castilla/Desktop/sofka/reto_bi/OOP/juputer.ipynb#ch0000000?line=182'>183</a>\u001b[0m \u001b[39mreturn\u001b[39;00m new_try\n",
      "\u001b[1;32m/home/castilla/Desktop/sofka/reto_bi/OOP/juputer.ipynb Cell 1'\u001b[0m in \u001b[0;36mWordle.word_from_list\u001b[0;34m(self, list_words)\u001b[0m\n\u001b[1;32m    <a href='vscode-notebook-cell:/home/castilla/Desktop/sofka/reto_bi/OOP/juputer.ipynb#ch0000000?line=128'>129</a>\u001b[0m \u001b[39mdef\u001b[39;00m \u001b[39mword_from_list\u001b[39m(\u001b[39mself\u001b[39m,list_words):\n\u001b[0;32m--> <a href='vscode-notebook-cell:/home/castilla/Desktop/sofka/reto_bi/OOP/juputer.ipynb#ch0000000?line=129'>130</a>\u001b[0m     new_attempt \u001b[39m=\u001b[39m \u001b[39mmax\u001b[39;49m(list_words, key\u001b[39m=\u001b[39;49m\u001b[39mlambda\u001b[39;49;00m word: \u001b[39mlen\u001b[39;49m(\u001b[39mset\u001b[39;49m(word)))\n\u001b[1;32m    <a href='vscode-notebook-cell:/home/castilla/Desktop/sofka/reto_bi/OOP/juputer.ipynb#ch0000000?line=130'>131</a>\u001b[0m     \u001b[39mreturn\u001b[39;00m new_attempt\n",
      "\u001b[0;31mValueError\u001b[0m: max() arg is an empty sequence"
     ]
    }
   ],
   "source": [
    "four_attemp = game5.get_attempt()\n",
    "print(four_attemp)"
   ]
  },
  {
   "cell_type": "code",
   "execution_count": 3,
   "metadata": {},
   "outputs": [
    {
     "ename": "TypeError",
     "evalue": "send_attemp() missing 1 required positional argument: 'word'",
     "output_type": "error",
     "traceback": [
      "\u001b[0;31m---------------------------------------------------------------------------\u001b[0m",
      "\u001b[0;31mTypeError\u001b[0m                                 Traceback (most recent call last)",
      "\u001b[1;32m/home/castilla/Desktop/sofka/reto_bi/OOP/juputer.ipynb Cell 28'\u001b[0m in \u001b[0;36m<cell line: 1>\u001b[0;34m()\u001b[0m\n\u001b[0;32m----> <a href='vscode-notebook-cell:/home/castilla/Desktop/sofka/reto_bi/OOP/juputer.ipynb#ch0000027?line=0'>1</a>\u001b[0m Wordle\u001b[39m.\u001b[39;49msend_attemp(\u001b[39m\"\u001b[39;49m\u001b[39madoptado\u001b[39;49m\u001b[39m\"\u001b[39;49m)\n",
      "\u001b[0;31mTypeError\u001b[0m: send_attemp() missing 1 required positional argument: 'word'"
     ]
    }
   ],
   "source": [
    "Wordle.send_attemp(\"adoptado\")"
   ]
  }
 ],
 "metadata": {
  "kernelspec": {
   "display_name": "Python 3.8.10 64-bit",
   "language": "python",
   "name": "python3"
  },
  "language_info": {
   "codemirror_mode": {
    "name": "ipython",
    "version": 3
   },
   "file_extension": ".py",
   "mimetype": "text/x-python",
   "name": "python",
   "nbconvert_exporter": "python",
   "pygments_lexer": "ipython3",
   "version": "3.8.10"
  },
  "orig_nbformat": 4,
  "vscode": {
   "interpreter": {
    "hash": "916dbcbb3f70747c44a77c7bcd40155683ae19c65e1c03b4aa3499c5328201f1"
   }
  }
 },
 "nbformat": 4,
 "nbformat_minor": 2
}
