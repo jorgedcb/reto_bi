{
 "cells": [
  {
   "cell_type": "code",
   "execution_count": 39,
   "metadata": {},
   "outputs": [],
   "source": [
    "from unittest import result\n",
    "import requests\n",
    "import pandas as pd\n",
    "import numpy as np\n",
    "class Wordle:\n",
    "    all = []\n",
    "    parameters_endpoint = 'https://7b8uflffq0.execute-api.us-east-1.amazonaws.com/game/get_params'\n",
    "    results_endpoint = 'https://7b8uflffq0.execute-api.us-east-1.amazonaws.com/game/check_results'\n",
    "    def __init__(self,words_list,user:tuple):\n",
    "\n",
    "        #add a check for the user\n",
    "\n",
    "\n",
    "        # Run validations to the received arguments\n",
    "        # assert price >= 0, f\"Price {price} is not greater than or equal to zero!\"\n",
    "        \n",
    "        # Assign to self object\n",
    "        self.list_letter_index_incorrect = [] #check if this is the best way to do it\n",
    "        self.wrong_letters = [] #check if this is the best way to do it\n",
    "        #add posibles words for each step\n",
    "        self.__num_attempts  = 0\n",
    "        self.__attempt_list = []\n",
    "        self.__last_attempt = ''\n",
    "        self.__list_results = []\n",
    "        self.user = user\n",
    "        self.__parameters = self._get_parameters(user).json() \n",
    "        self.__id = self.__parameters['id']\n",
    "        self.__length_word = self.__parameters['length_word']\n",
    "        self.__vowels = self.__parameters['vowels']\n",
    "        self.__consonants = self.__parameters['consonants']\n",
    "        self.__words_list = words_list\n",
    "        self.__df_game = self._get_df_game()\n",
    "    @property\n",
    "    def num_attempts(self):\n",
    "        return self.__num_attempts #add funtionality that can't find the word in 6 attempps\n",
    "\n",
    "    def _increase_num_attempts(self):\n",
    "        self.__num_attempts += 1 \n",
    "\n",
    "    @property\n",
    "    def attempt_list(self):\n",
    "        return self.__attempt_list\n",
    "    \n",
    "    def _append_attempt(self):\n",
    "        self.__attempt_list.append(self.last_attempt)\n",
    "        print(f\"{self.last_attempt} - attempt #{self.num_attempts}\")\n",
    "\n",
    "    @property\n",
    "    def last_attempt(self):\n",
    "        return self.__last_attempt\n",
    "\n",
    "    def _set_last_attempt(self,word):\n",
    "        self.__last_attempt = word\n",
    "    \n",
    "    @property\n",
    "    def list_results(self):\n",
    "        return self.__list_results\n",
    "    \n",
    "    def _append_result(self,result):\n",
    "        self.__list_results.append(result)\n",
    "        print(result.json())\n",
    "\n",
    "    def _get_parameters(self,user):\n",
    "        \"\"\"The format of the response is:\n",
    "        {\"id\": \"string\",\n",
    "        \"length_word\": int,\n",
    "        \"vowels\": int,\n",
    "        \"consonants\": int\n",
    "        }\n",
    "        \"\"\"\n",
    "        return requests.get(self.parameters_endpoint, auth = user)\n",
    "\n",
    "    @property\n",
    "    def parameters(self):\n",
    "        return self.__parameters\n",
    "\n",
    "    @property\n",
    "    def id(self):\n",
    "        return self.__id\n",
    "\n",
    "    @property\n",
    "    def length_word(self):\n",
    "        return self.__length_word\n",
    "    \n",
    "    @property\n",
    "    def vowels(self):\n",
    "        return self.__vowels\n",
    "    \n",
    "    @property\n",
    "    def consonants(self):\n",
    "        return self.__consonants\n",
    "\n",
    "    @property\n",
    "    def words_list(self):\n",
    "        return self.__words_list\n",
    "\n",
    "    \n",
    "    @property\n",
    "    def df_game(self):\n",
    "        return self.__df_game\n",
    "    \n",
    "    def _create_df_from_list(self):\n",
    "        self.df_all_words = pd.DataFrame(self.words_list, columns =['Words'])\n",
    "\n",
    "    def _add_number_letters_column(self):\n",
    "        self.df_all_words['Number of letters'] = self.df_all_words['Words'].str.len()    \n",
    "    \n",
    "    def _add_vowels_column(self):\n",
    "        self.df_all_words['Number of vowels'] = self.df_all_words['Words'].str.count(r'[aeiou]')\n",
    "\n",
    "    def _add_consonant_column(self):\n",
    "        self.df_all_words['Number of consonants'] = (self.df_all_words['Number of letters'] \n",
    "                                                     - self.df_all_words['Number of vowels'])\n",
    "                                            \n",
    "    def _restrict_df_by_parameter(self):\n",
    "        conditions = (self.df_all_words['Number of letters'] == self.__length_word)  & (self.df_all_words['Number of vowels'] == self.__vowels) & (self.df_all_words['Number of consonants'] == self.consonants)\n",
    "        return self.df_all_words.loc[conditions]\n",
    "\n",
    "    def _get_df_game(self):\n",
    "        self._create_df_from_list()\n",
    "        self._add_number_letters_column()\n",
    "        self._add_vowels_column()\n",
    "        self._add_consonant_column()\n",
    "        return self._restrict_df_by_parameter()\n",
    "\n",
    "    def valid_words_list(self):\n",
    "        return list(self.df_game['Words'].values)\n",
    "\n",
    "    def word_from_list(self,list_words):\n",
    "        new_attempt = max(list_words, key=lambda word: len(set(word)))\n",
    "        return new_attempt\n",
    "\n",
    "\n",
    "    def first_attempt(self):\n",
    "        word = self.word_from_list(self.valid_words_list())\n",
    "        return word\n",
    "\n",
    "\n",
    "    def filter_position_letter(self, list_tupple):\n",
    "        #add a comment\n",
    "\n",
    "        df = self.df_game\n",
    "        if list_tupple:\n",
    "            bool_words = [df['Words'].str[index].eq(letter) for index, letter in list_tupple]\n",
    "            list_words = list(df.loc[np.logical_and.reduce(bool_words), 'Words'].values)\n",
    "            return list_words\n",
    "        else: \n",
    "            return []\n",
    "    \n",
    "    def new_attempt(self):\n",
    "        #index where the list of bools were true\n",
    "        correct_index_letters_try = np.where(self.last_result_json['position_array'])[0]\n",
    "        #getting index from letters that are in the word but are in wrong position\n",
    "        index_letters_wrong_position = [index for index,letter in enumerate(self.last_attempt) if letter in self.last_result_json['right_letters_in_wrong_positions']] #cambiar 0 por current attempt\n",
    "        #erase the index if are in the index of correct words\n",
    "        incorrect_index_try = [index for index in index_letters_wrong_position if index not in correct_index_letters_try]\n",
    "        #enumerate the atempt ex jorge = [(j,0),(o,1)]\n",
    "        position_try = list(enumerate(self.last_attempt))\n",
    "        #get the tuples that are right\n",
    "        list_letter_index_correct = [position_try[j] for j in correct_index_letters_try]\n",
    "        #get tupples that the letter exits on the word but are in wrong position\n",
    "        self.list_letter_index_incorrect.extend([position_try[j] for j in incorrect_index_try])\n",
    "        #list of letters that are in the correct position\n",
    "        letter_correct_position = [self.last_attempt[j] for j in correct_index_letters_try]\n",
    "        #list of letters that definitely aren't in the word\n",
    "        wrong_letters_last_try = list(set(self.last_attempt) - set(self.last_result_json['right_letters_in_wrong_positions']) - set(letter_correct_position))\n",
    "        right_letters = self.last_result_json['right_letters_in_wrong_positions']\n",
    "        right_letters.extend(letter_correct_position)\n",
    "        #right_letters = list(set(right_letters))#quitar esto en un futuro\n",
    "        self.wrong_letters.extend(wrong_letters_last_try)\n",
    "        if list_letter_index_correct:\n",
    "            valid_words = self.filter_position_letter(list_letter_index_correct)\n",
    "        else:\n",
    "            valid_words = self.valid_words_list()\n",
    "        invalid_words = self.filter_position_letter(self.list_letter_index_incorrect)\n",
    "        valid_list = [word for word in valid_words if word not in invalid_words]\n",
    "        a_list = [word for word in valid_list if all(invalid_letter not in word for invalid_letter in self.wrong_letters)]\n",
    "        #valid letters mean must letters\n",
    "        # final_list = [word for word in a_list if all(valid_letter in word for valid_letter in right_letters)]\n",
    "        final_list = [word for word in a_list if all(right_letters.count(valid_letter) <= word.count(valid_letter) for valid_letter in right_letters)]\n",
    "\n",
    "        new_try = self.word_from_list(final_list)\n",
    "        return new_try\n",
    "\n",
    "    def get_attempt(self):\n",
    "        if self.num_attempts == 0:\n",
    "            return self.first_attempt()\n",
    "        else:\n",
    "            return self.new_attempt()\n",
    "    \n",
    "    def update_data(self,word):\n",
    "        self._increase_num_attempts()\n",
    "        self._set_last_attempt(word)\n",
    "        self._append_attempt()\n",
    "        \n",
    "\n",
    "    def send_attemp(self,word):\n",
    "        self.update_data(word)\n",
    "        result = requests.post(self.results_endpoint,json = {\"result_word\": word}, auth = self.user)\n",
    "        self._append_result(result)\n",
    "        self.last_result_json = result.json() \n",
    "        return result\n",
    "\n",
    "    def play(self):\n",
    "        #sending first attemp to the endpoint\n",
    "        #print(self.first_attempt())\n",
    "        self.send_attemp(self.first_attempt())\n",
    "        # self.send_attemp1(self.new_attempt())\n",
    "        print(self.new_attempt())\n",
    "    "
   ]
  },
  {
   "cell_type": "code",
   "execution_count": 8,
   "metadata": {},
   "outputs": [],
   "source": [
    "#from wordle import Wordle\n",
    "import json\n",
    "\n",
    "with open('/home/castilla/Desktop/sofka/reto_bi/OOP/test.txt', 'r') as f:\n",
    "    list_words = json.loads(f.read())\n",
    "\n",
    "user = ('jorge.castilla','5cbdaf7e3c844ec882f576ec2ec4c9a4')\n",
    "\n",
    "game = Wordle(list_words,user)"
   ]
  },
  {
   "cell_type": "code",
   "execution_count": 9,
   "metadata": {},
   "outputs": [
    {
     "data": {
      "text/plain": [
       "{'id': '62b4da73a7523ed860dfabce',\n",
       " 'length_word': 11,\n",
       " 'vowels': 5,\n",
       " 'consonants': 6}"
      ]
     },
     "execution_count": 9,
     "metadata": {},
     "output_type": "execute_result"
    }
   ],
   "source": [
    "game.parameters"
   ]
  },
  {
   "cell_type": "code",
   "execution_count": 10,
   "metadata": {},
   "outputs": [
    {
     "name": "stdout",
     "output_type": "stream",
     "text": [
      "bronquiales\n"
     ]
    }
   ],
   "source": [
    "first_attempt = game.get_attempt()\n",
    "print(first_attempt)"
   ]
  },
  {
   "cell_type": "code",
   "execution_count": 11,
   "metadata": {},
   "outputs": [
    {
     "name": "stdout",
     "output_type": "stream",
     "text": [
      "bronquiales - attempt #1\n",
      "{'word_sent': 'bronquiales', 'score': 0.2727272727272727, 'try_datetime': '2022-06-23T21:28:15.365512', 'position_array': [False, False, False, False, False, False, True, False, False, False, False], 'right_letters_in_wrong_positions': ['o', 'n', 'e'], 'current_attemps': 1}\n"
     ]
    },
    {
     "data": {
      "text/plain": [
       "<Response [200]>"
      ]
     },
     "execution_count": 11,
     "metadata": {},
     "output_type": "execute_result"
    }
   ],
   "source": [
    "game.send_attemp(first_attempt)\n"
   ]
  },
  {
   "cell_type": "code",
   "execution_count": 12,
   "metadata": {},
   "outputs": [
    {
     "name": "stdout",
     "output_type": "stream",
     "text": [
      "compitiendo\n"
     ]
    }
   ],
   "source": [
    "second_attemp = game.get_attempt()\n",
    "print(second_attemp)"
   ]
  },
  {
   "cell_type": "code",
   "execution_count": 13,
   "metadata": {},
   "outputs": [
    {
     "name": "stdout",
     "output_type": "stream",
     "text": [
      "compitiendo - attempt #2\n",
      "{'word_sent': 'compitiendo', 'score': 1.0, 'try_datetime': '2022-06-23T21:30:24.889229', 'position_array': [True, True, True, True, True, True, True, True, True, True, True], 'right_letters_in_wrong_positions': [], 'current_attemps': 2}\n"
     ]
    },
    {
     "data": {
      "text/plain": [
       "<Response [200]>"
      ]
     },
     "execution_count": 13,
     "metadata": {},
     "output_type": "execute_result"
    }
   ],
   "source": [
    "game.send_attemp(second_attemp)"
   ]
  },
  {
   "cell_type": "code",
   "execution_count": 14,
   "metadata": {},
   "outputs": [
    {
     "data": {
      "text/plain": [
       "{'id': '62b4da73a7523ed860dfabce',\n",
       " 'length_word': 11,\n",
       " 'vowels': 5,\n",
       " 'consonants': 6}"
      ]
     },
     "execution_count": 14,
     "metadata": {},
     "output_type": "execute_result"
    }
   ],
   "source": [
    "game2 = Wordle(list_words,user)\n",
    "game2.parameters"
   ]
  },
  {
   "cell_type": "code",
   "execution_count": 15,
   "metadata": {},
   "outputs": [
    {
     "data": {
      "text/plain": [
       "{'id': '62b4dceeaf391d7254b85ad3',\n",
       " 'length_word': 8,\n",
       " 'vowels': 4,\n",
       " 'consonants': 4}"
      ]
     },
     "execution_count": 15,
     "metadata": {},
     "output_type": "execute_result"
    }
   ],
   "source": [
    "game2.parameters"
   ]
  },
  {
   "cell_type": "code",
   "execution_count": 16,
   "metadata": {},
   "outputs": [
    {
     "name": "stdout",
     "output_type": "stream",
     "text": [
      "abiertos\n"
     ]
    }
   ],
   "source": [
    "first_attempt = game2.get_attempt()\n",
    "print(first_attempt)"
   ]
  },
  {
   "cell_type": "code",
   "execution_count": 17,
   "metadata": {},
   "outputs": [
    {
     "name": "stdout",
     "output_type": "stream",
     "text": [
      "abiertos - attempt #1\n",
      "{'word_sent': 'abiertos', 'score': 0.375, 'try_datetime': '2022-06-23T21:39:00.007408', 'position_array': [True, False, True, False, False, False, False, False], 'right_letters_in_wrong_positions': ['t'], 'current_attemps': 1}\n"
     ]
    },
    {
     "data": {
      "text/plain": [
       "<Response [200]>"
      ]
     },
     "execution_count": 17,
     "metadata": {},
     "output_type": "execute_result"
    }
   ],
   "source": [
    "game2.send_attemp(first_attempt)"
   ]
  },
  {
   "cell_type": "code",
   "execution_count": 18,
   "metadata": {},
   "outputs": [
    {
     "name": "stdout",
     "output_type": "stream",
     "text": [
      "adictiva\n"
     ]
    }
   ],
   "source": [
    "second_attemp = game2.get_attempt()\n",
    "print(second_attemp)"
   ]
  },
  {
   "cell_type": "code",
   "execution_count": 19,
   "metadata": {},
   "outputs": [
    {
     "name": "stdout",
     "output_type": "stream",
     "text": [
      "adictiva - attempt #2\n",
      "{'word_sent': 'adictiva', 'score': 1.0, 'try_datetime': '2022-06-23T21:40:19.866921', 'position_array': [True, True, True, True, True, True, True, True], 'right_letters_in_wrong_positions': [], 'current_attemps': 2}\n"
     ]
    },
    {
     "data": {
      "text/plain": [
       "<Response [200]>"
      ]
     },
     "execution_count": 19,
     "metadata": {},
     "output_type": "execute_result"
    }
   ],
   "source": [
    "game2.send_attemp(second_attemp)"
   ]
  },
  {
   "cell_type": "code",
   "execution_count": 20,
   "metadata": {},
   "outputs": [
    {
     "data": {
      "text/plain": [
       "{'id': '62b4de62af391d7254b85ad7',\n",
       " 'length_word': 10,\n",
       " 'vowels': 3,\n",
       " 'consonants': 7}"
      ]
     },
     "execution_count": 20,
     "metadata": {},
     "output_type": "execute_result"
    }
   ],
   "source": [
    "game3 = Wordle(list_words,user)\n",
    "game3.parameters"
   ]
  },
  {
   "cell_type": "code",
   "execution_count": 21,
   "metadata": {},
   "outputs": [
    {
     "name": "stdout",
     "output_type": "stream",
     "text": [
      "bialystock\n"
     ]
    }
   ],
   "source": [
    "first_attempt = game3.get_attempt()\n",
    "print(first_attempt)"
   ]
  },
  {
   "cell_type": "code",
   "execution_count": 24,
   "metadata": {},
   "outputs": [
    {
     "name": "stdout",
     "output_type": "stream",
     "text": [
      "bialystock - attempt #2\n",
      "{'word_sent': 'bialystock', 'score': 0.1, 'try_datetime': '2022-06-23T21:49:11.062416', 'position_array': [False, False, False, False, False, False, True, False, False, False], 'right_letters_in_wrong_positions': ['i', 'a', 's', 'o', 'c'], 'current_attemps': 3}\n",
      "chortatzis\n"
     ]
    }
   ],
   "source": [
    "game3.send_attemp(first_attempt)\n",
    "second_attemp = game3.get_attempt()\n",
    "print(second_attemp)"
   ]
  },
  {
   "cell_type": "code",
   "execution_count": 25,
   "metadata": {},
   "outputs": [
    {
     "name": "stdout",
     "output_type": "stream",
     "text": [
      "chortatzis - attempt #3\n",
      "{'word_sent': 'chortatzis', 'score': 1.0, 'try_datetime': '2022-06-23T21:49:30.583059', 'position_array': [True, True, True, True, True, True, True, True, True, True], 'right_letters_in_wrong_positions': [], 'current_attemps': 4}\n"
     ]
    },
    {
     "data": {
      "text/plain": [
       "<Response [200]>"
      ]
     },
     "execution_count": 25,
     "metadata": {},
     "output_type": "execute_result"
    }
   ],
   "source": [
    "game3.send_attemp(second_attemp)"
   ]
  },
  {
   "cell_type": "code",
   "execution_count": 41,
   "metadata": {},
   "outputs": [
    {
     "name": "stdout",
     "output_type": "stream",
     "text": [
      "{'id': '62b4e470a15bde70e02b0f6a', 'length_word': 11, 'vowels': 4, 'consonants': 7}\n",
      "centigrados\n"
     ]
    }
   ],
   "source": [
    "game4 = Wordle(list_words,user)\n",
    "print(game4.parameters)\n",
    "first_attempt = game4.get_attempt()\n",
    "print(first_attempt)"
   ]
  },
  {
   "cell_type": "code",
   "execution_count": 42,
   "metadata": {},
   "outputs": [
    {
     "name": "stdout",
     "output_type": "stream",
     "text": [
      "centigrados - attempt #1\n",
      "{'word_sent': 'centigrados', 'score': 0.45454545454545453, 'try_datetime': '2022-06-23T22:09:51.688127', 'position_array': [False, True, False, False, False, False, False, True, False, False, False], 'right_letters_in_wrong_positions': ['n', 't', 'g', 'd', 'o', 's'], 'current_attemps': 1}\n",
      "desgastando\n"
     ]
    }
   ],
   "source": [
    "game4.send_attemp(first_attempt)\n",
    "second_attemp = game4.get_attempt()\n",
    "print(second_attemp)"
   ]
  },
  {
   "cell_type": "code",
   "execution_count": 43,
   "metadata": {},
   "outputs": [
    {
     "name": "stdout",
     "output_type": "stream",
     "text": [
      "desgastando - attempt #2\n",
      "{'word_sent': 'desgastando', 'score': 1.0, 'try_datetime': '2022-06-23T22:10:26.086964', 'position_array': [True, True, True, True, True, True, True, True, True, True, True], 'right_letters_in_wrong_positions': [], 'current_attemps': 2}\n"
     ]
    },
    {
     "data": {
      "text/plain": [
       "<Response [200]>"
      ]
     },
     "execution_count": 43,
     "metadata": {},
     "output_type": "execute_result"
    }
   ],
   "source": [
    "game4.send_attemp(second_attemp)"
   ]
  },
  {
   "cell_type": "code",
   "execution_count": 44,
   "metadata": {},
   "outputs": [
    {
     "name": "stdout",
     "output_type": "stream",
     "text": [
      "{'id': '62b4e470a15bde70e02b0f6a', 'length_word': 11, 'vowels': 4, 'consonants': 7}\n",
      "abiertos\n"
     ]
    }
   ],
   "source": [
    "game5 = Wordle(list_words,user)\n",
    "print(game5.parameters)\n",
    "first_attempt = game5.get_attempt()\n",
    "print(first_attempt)"
   ]
  },
  {
   "cell_type": "code",
   "execution_count": 45,
   "metadata": {},
   "outputs": [
    {
     "name": "stdout",
     "output_type": "stream",
     "text": [
      "{'id': '62b4e50da15bde70e02b0f6e', 'length_word': 8, 'vowels': 4, 'consonants': 4}\n"
     ]
    }
   ],
   "source": [
    "print(game5.parameters)"
   ]
  },
  {
   "cell_type": "code",
   "execution_count": 46,
   "metadata": {},
   "outputs": [
    {
     "name": "stdout",
     "output_type": "stream",
     "text": [
      "abiertos - attempt #1\n",
      "{'word_sent': 'abiertos', 'score': 0.25, 'try_datetime': '2022-06-23T22:12:03.226984', 'position_array': [True, False, False, False, False, False, False, False], 'right_letters_in_wrong_positions': ['t', 'o'], 'current_attemps': 1}\n",
      "actuando\n"
     ]
    }
   ],
   "source": [
    "game5.send_attemp(first_attempt)\n",
    "second_attemp = game5.get_attempt()\n",
    "print(second_attemp)"
   ]
  },
  {
   "cell_type": "code",
   "execution_count": 47,
   "metadata": {},
   "outputs": [
    {
     "name": "stdout",
     "output_type": "stream",
     "text": [
      "actuando - attempt #2\n",
      "{'word_sent': 'actuando', 'score': 0.375, 'try_datetime': '2022-06-23T22:12:12.449979', 'position_array': [True, False, False, False, False, False, True, True], 'right_letters_in_wrong_positions': ['t', 'a'], 'current_attemps': 2}\n"
     ]
    },
    {
     "data": {
      "text/plain": [
       "<Response [200]>"
      ]
     },
     "execution_count": 47,
     "metadata": {},
     "output_type": "execute_result"
    }
   ],
   "source": [
    "game5.send_attemp(second_attemp)"
   ]
  },
  {
   "cell_type": "code",
   "execution_count": 48,
   "metadata": {},
   "outputs": [
    {
     "name": "stdout",
     "output_type": "stream",
     "text": [
      "adaptado\n"
     ]
    }
   ],
   "source": [
    "third_attemp = game5.get_attempt()\n",
    "print(third_attemp)\n"
   ]
  },
  {
   "cell_type": "code",
   "execution_count": 49,
   "metadata": {},
   "outputs": [
    {
     "name": "stdout",
     "output_type": "stream",
     "text": [
      "adaptado - attempt #3\n",
      "{'word_sent': 'adaptado', 'score': 0.875, 'try_datetime': '2022-06-23T22:15:02.986128', 'position_array': [True, True, False, True, True, True, True, True], 'right_letters_in_wrong_positions': [], 'current_attemps': 3}\n"
     ]
    },
    {
     "data": {
      "text/plain": [
       "<Response [200]>"
      ]
     },
     "execution_count": 49,
     "metadata": {},
     "output_type": "execute_result"
    }
   ],
   "source": [
    "game5.send_attemp(third_attemp)"
   ]
  },
  {
   "cell_type": "code",
   "execution_count": 51,
   "metadata": {},
   "outputs": [
    {
     "ename": "ValueError",
     "evalue": "max() arg is an empty sequence",
     "output_type": "error",
     "traceback": [
      "\u001b[0;31m---------------------------------------------------------------------------\u001b[0m",
      "\u001b[0;31mValueError\u001b[0m                                Traceback (most recent call last)",
      "\u001b[1;32m/home/castilla/Desktop/sofka/reto_bi/OOP/juputer.ipynb Cell 27'\u001b[0m in \u001b[0;36m<cell line: 1>\u001b[0;34m()\u001b[0m\n\u001b[0;32m----> <a href='vscode-notebook-cell:/home/castilla/Desktop/sofka/reto_bi/OOP/juputer.ipynb#ch0000034?line=0'>1</a>\u001b[0m four_attemp \u001b[39m=\u001b[39m game5\u001b[39m.\u001b[39;49mget_attempt()\n\u001b[1;32m      <a href='vscode-notebook-cell:/home/castilla/Desktop/sofka/reto_bi/OOP/juputer.ipynb#ch0000034?line=1'>2</a>\u001b[0m \u001b[39mprint\u001b[39m(four_attemp)\n",
      "\u001b[1;32m/home/castilla/Desktop/sofka/reto_bi/OOP/juputer.ipynb Cell 1'\u001b[0m in \u001b[0;36mWordle.get_attempt\u001b[0;34m(self)\u001b[0m\n\u001b[1;32m    <a href='vscode-notebook-cell:/home/castilla/Desktop/sofka/reto_bi/OOP/juputer.ipynb#ch0000000?line=186'>187</a>\u001b[0m     \u001b[39mreturn\u001b[39;00m \u001b[39mself\u001b[39m\u001b[39m.\u001b[39mfirst_attempt()\n\u001b[1;32m    <a href='vscode-notebook-cell:/home/castilla/Desktop/sofka/reto_bi/OOP/juputer.ipynb#ch0000000?line=187'>188</a>\u001b[0m \u001b[39melse\u001b[39;00m:\n\u001b[0;32m--> <a href='vscode-notebook-cell:/home/castilla/Desktop/sofka/reto_bi/OOP/juputer.ipynb#ch0000000?line=188'>189</a>\u001b[0m     \u001b[39mreturn\u001b[39;00m \u001b[39mself\u001b[39;49m\u001b[39m.\u001b[39;49mnew_attempt()\n",
      "\u001b[1;32m/home/castilla/Desktop/sofka/reto_bi/OOP/juputer.ipynb Cell 1'\u001b[0m in \u001b[0;36mWordle.new_attempt\u001b[0;34m(self)\u001b[0m\n\u001b[1;32m    <a href='vscode-notebook-cell:/home/castilla/Desktop/sofka/reto_bi/OOP/juputer.ipynb#ch0000000?line=177'>178</a>\u001b[0m \u001b[39m#valid letters mean must letters\u001b[39;00m\n\u001b[1;32m    <a href='vscode-notebook-cell:/home/castilla/Desktop/sofka/reto_bi/OOP/juputer.ipynb#ch0000000?line=178'>179</a>\u001b[0m \u001b[39m# final_list = [word for word in a_list if all(valid_letter in word for valid_letter in right_letters)]\u001b[39;00m\n\u001b[1;32m    <a href='vscode-notebook-cell:/home/castilla/Desktop/sofka/reto_bi/OOP/juputer.ipynb#ch0000000?line=179'>180</a>\u001b[0m final_list \u001b[39m=\u001b[39m [word \u001b[39mfor\u001b[39;00m word \u001b[39min\u001b[39;00m a_list \u001b[39mif\u001b[39;00m \u001b[39mall\u001b[39m(right_letters\u001b[39m.\u001b[39mcount(valid_letter) \u001b[39m<\u001b[39m\u001b[39m=\u001b[39m word\u001b[39m.\u001b[39mcount(valid_letter) \u001b[39mfor\u001b[39;00m valid_letter \u001b[39min\u001b[39;00m right_letters)]\n\u001b[0;32m--> <a href='vscode-notebook-cell:/home/castilla/Desktop/sofka/reto_bi/OOP/juputer.ipynb#ch0000000?line=181'>182</a>\u001b[0m new_try \u001b[39m=\u001b[39m \u001b[39mself\u001b[39;49m\u001b[39m.\u001b[39;49mword_from_list(final_list)\n\u001b[1;32m    <a href='vscode-notebook-cell:/home/castilla/Desktop/sofka/reto_bi/OOP/juputer.ipynb#ch0000000?line=182'>183</a>\u001b[0m \u001b[39mreturn\u001b[39;00m new_try\n",
      "\u001b[1;32m/home/castilla/Desktop/sofka/reto_bi/OOP/juputer.ipynb Cell 1'\u001b[0m in \u001b[0;36mWordle.word_from_list\u001b[0;34m(self, list_words)\u001b[0m\n\u001b[1;32m    <a href='vscode-notebook-cell:/home/castilla/Desktop/sofka/reto_bi/OOP/juputer.ipynb#ch0000000?line=128'>129</a>\u001b[0m \u001b[39mdef\u001b[39;00m \u001b[39mword_from_list\u001b[39m(\u001b[39mself\u001b[39m,list_words):\n\u001b[0;32m--> <a href='vscode-notebook-cell:/home/castilla/Desktop/sofka/reto_bi/OOP/juputer.ipynb#ch0000000?line=129'>130</a>\u001b[0m     new_attempt \u001b[39m=\u001b[39m \u001b[39mmax\u001b[39;49m(list_words, key\u001b[39m=\u001b[39;49m\u001b[39mlambda\u001b[39;49;00m word: \u001b[39mlen\u001b[39;49m(\u001b[39mset\u001b[39;49m(word)))\n\u001b[1;32m    <a href='vscode-notebook-cell:/home/castilla/Desktop/sofka/reto_bi/OOP/juputer.ipynb#ch0000000?line=130'>131</a>\u001b[0m     \u001b[39mreturn\u001b[39;00m new_attempt\n",
      "\u001b[0;31mValueError\u001b[0m: max() arg is an empty sequence"
     ]
    }
   ],
   "source": [
    "four_attemp = game5.get_attempt()\n",
    "print(four_attemp)"
   ]
  }
 ],
 "metadata": {
  "kernelspec": {
   "display_name": "Python 3.8.10 64-bit",
   "language": "python",
   "name": "python3"
  },
  "language_info": {
   "codemirror_mode": {
    "name": "ipython",
    "version": 3
   },
   "file_extension": ".py",
   "mimetype": "text/x-python",
   "name": "python",
   "nbconvert_exporter": "python",
   "pygments_lexer": "ipython3",
   "version": "3.8.10"
  },
  "orig_nbformat": 4,
  "vscode": {
   "interpreter": {
    "hash": "916dbcbb3f70747c44a77c7bcd40155683ae19c65e1c03b4aa3499c5328201f1"
   }
  }
 },
 "nbformat": 4,
 "nbformat_minor": 2
}
